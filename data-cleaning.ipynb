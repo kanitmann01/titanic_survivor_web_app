{
 "cells": [
  {
   "cell_type": "code",
   "execution_count": null,
   "id": "01f2b525",
   "metadata": {},
   "outputs": [],
   "source": [
    "import pandas as pd"
   ]
  },
  {
   "cell_type": "code",
   "execution_count": 35,
   "id": "0083306b",
   "metadata": {},
   "outputs": [
    {
     "data": {
      "application/vnd.microsoft.datawrangler.viewer.v0+json": {
       "columns": [
        {
         "name": "index",
         "rawType": "int64",
         "type": "integer"
        },
        {
         "name": "PassengerId",
         "rawType": "int64",
         "type": "integer"
        },
        {
         "name": "Survived",
         "rawType": "int64",
         "type": "integer"
        },
        {
         "name": "Pclass",
         "rawType": "int64",
         "type": "integer"
        },
        {
         "name": "Name",
         "rawType": "object",
         "type": "string"
        },
        {
         "name": "Sex",
         "rawType": "object",
         "type": "string"
        },
        {
         "name": "Age",
         "rawType": "float64",
         "type": "float"
        },
        {
         "name": "SibSp",
         "rawType": "int64",
         "type": "integer"
        },
        {
         "name": "Parch",
         "rawType": "int64",
         "type": "integer"
        },
        {
         "name": "Ticket",
         "rawType": "object",
         "type": "string"
        },
        {
         "name": "Fare",
         "rawType": "float64",
         "type": "float"
        },
        {
         "name": "Cabin",
         "rawType": "object",
         "type": "unknown"
        },
        {
         "name": "Embarked",
         "rawType": "object",
         "type": "string"
        }
       ],
       "ref": "183be26d-80d4-46d3-b730-a7bde643bf4b",
       "rows": [
        [
         "0",
         "1",
         "0",
         "3",
         "Braund, Mr. Owen Harris",
         "male",
         "22.0",
         "1",
         "0",
         "A/5 21171",
         "7.25",
         null,
         "S"
        ],
        [
         "1",
         "2",
         "1",
         "1",
         "Cumings, Mrs. John Bradley (Florence Briggs Thayer)",
         "female",
         "38.0",
         "1",
         "0",
         "PC 17599",
         "71.2833",
         "C85",
         "C"
        ],
        [
         "2",
         "3",
         "1",
         "3",
         "Heikkinen, Miss. Laina",
         "female",
         "26.0",
         "0",
         "0",
         "STON/O2. 3101282",
         "7.925",
         null,
         "S"
        ],
        [
         "3",
         "4",
         "1",
         "1",
         "Futrelle, Mrs. Jacques Heath (Lily May Peel)",
         "female",
         "35.0",
         "1",
         "0",
         "113803",
         "53.1",
         "C123",
         "S"
        ],
        [
         "4",
         "5",
         "0",
         "3",
         "Allen, Mr. William Henry",
         "male",
         "35.0",
         "0",
         "0",
         "373450",
         "8.05",
         null,
         "S"
        ]
       ],
       "shape": {
        "columns": 12,
        "rows": 5
       }
      },
      "text/html": [
       "<div>\n",
       "<style scoped>\n",
       "    .dataframe tbody tr th:only-of-type {\n",
       "        vertical-align: middle;\n",
       "    }\n",
       "\n",
       "    .dataframe tbody tr th {\n",
       "        vertical-align: top;\n",
       "    }\n",
       "\n",
       "    .dataframe thead th {\n",
       "        text-align: right;\n",
       "    }\n",
       "</style>\n",
       "<table border=\"1\" class=\"dataframe\">\n",
       "  <thead>\n",
       "    <tr style=\"text-align: right;\">\n",
       "      <th></th>\n",
       "      <th>PassengerId</th>\n",
       "      <th>Survived</th>\n",
       "      <th>Pclass</th>\n",
       "      <th>Name</th>\n",
       "      <th>Sex</th>\n",
       "      <th>Age</th>\n",
       "      <th>SibSp</th>\n",
       "      <th>Parch</th>\n",
       "      <th>Ticket</th>\n",
       "      <th>Fare</th>\n",
       "      <th>Cabin</th>\n",
       "      <th>Embarked</th>\n",
       "    </tr>\n",
       "  </thead>\n",
       "  <tbody>\n",
       "    <tr>\n",
       "      <th>0</th>\n",
       "      <td>1</td>\n",
       "      <td>0</td>\n",
       "      <td>3</td>\n",
       "      <td>Braund, Mr. Owen Harris</td>\n",
       "      <td>male</td>\n",
       "      <td>22.0</td>\n",
       "      <td>1</td>\n",
       "      <td>0</td>\n",
       "      <td>A/5 21171</td>\n",
       "      <td>7.2500</td>\n",
       "      <td>NaN</td>\n",
       "      <td>S</td>\n",
       "    </tr>\n",
       "    <tr>\n",
       "      <th>1</th>\n",
       "      <td>2</td>\n",
       "      <td>1</td>\n",
       "      <td>1</td>\n",
       "      <td>Cumings, Mrs. John Bradley (Florence Briggs Th...</td>\n",
       "      <td>female</td>\n",
       "      <td>38.0</td>\n",
       "      <td>1</td>\n",
       "      <td>0</td>\n",
       "      <td>PC 17599</td>\n",
       "      <td>71.2833</td>\n",
       "      <td>C85</td>\n",
       "      <td>C</td>\n",
       "    </tr>\n",
       "    <tr>\n",
       "      <th>2</th>\n",
       "      <td>3</td>\n",
       "      <td>1</td>\n",
       "      <td>3</td>\n",
       "      <td>Heikkinen, Miss. Laina</td>\n",
       "      <td>female</td>\n",
       "      <td>26.0</td>\n",
       "      <td>0</td>\n",
       "      <td>0</td>\n",
       "      <td>STON/O2. 3101282</td>\n",
       "      <td>7.9250</td>\n",
       "      <td>NaN</td>\n",
       "      <td>S</td>\n",
       "    </tr>\n",
       "    <tr>\n",
       "      <th>3</th>\n",
       "      <td>4</td>\n",
       "      <td>1</td>\n",
       "      <td>1</td>\n",
       "      <td>Futrelle, Mrs. Jacques Heath (Lily May Peel)</td>\n",
       "      <td>female</td>\n",
       "      <td>35.0</td>\n",
       "      <td>1</td>\n",
       "      <td>0</td>\n",
       "      <td>113803</td>\n",
       "      <td>53.1000</td>\n",
       "      <td>C123</td>\n",
       "      <td>S</td>\n",
       "    </tr>\n",
       "    <tr>\n",
       "      <th>4</th>\n",
       "      <td>5</td>\n",
       "      <td>0</td>\n",
       "      <td>3</td>\n",
       "      <td>Allen, Mr. William Henry</td>\n",
       "      <td>male</td>\n",
       "      <td>35.0</td>\n",
       "      <td>0</td>\n",
       "      <td>0</td>\n",
       "      <td>373450</td>\n",
       "      <td>8.0500</td>\n",
       "      <td>NaN</td>\n",
       "      <td>S</td>\n",
       "    </tr>\n",
       "  </tbody>\n",
       "</table>\n",
       "</div>"
      ],
      "text/plain": [
       "   PassengerId  Survived  Pclass  \\\n",
       "0            1         0       3   \n",
       "1            2         1       1   \n",
       "2            3         1       3   \n",
       "3            4         1       1   \n",
       "4            5         0       3   \n",
       "\n",
       "                                                Name     Sex   Age  SibSp  \\\n",
       "0                            Braund, Mr. Owen Harris    male  22.0      1   \n",
       "1  Cumings, Mrs. John Bradley (Florence Briggs Th...  female  38.0      1   \n",
       "2                             Heikkinen, Miss. Laina  female  26.0      0   \n",
       "3       Futrelle, Mrs. Jacques Heath (Lily May Peel)  female  35.0      1   \n",
       "4                           Allen, Mr. William Henry    male  35.0      0   \n",
       "\n",
       "   Parch            Ticket     Fare Cabin Embarked  \n",
       "0      0         A/5 21171   7.2500   NaN        S  \n",
       "1      0          PC 17599  71.2833   C85        C  \n",
       "2      0  STON/O2. 3101282   7.9250   NaN        S  \n",
       "3      0            113803  53.1000  C123        S  \n",
       "4      0            373450   8.0500   NaN        S  "
      ]
     },
     "execution_count": 35,
     "metadata": {},
     "output_type": "execute_result"
    }
   ],
   "source": [
    "train_data = pd.read_csv('./titanic/train.csv')\n",
    "\n",
    "train_data.head(5)"
   ]
  },
  {
   "cell_type": "code",
   "execution_count": 36,
   "id": "9bc7ece4",
   "metadata": {},
   "outputs": [
    {
     "name": "stdout",
     "output_type": "stream",
     "text": [
      "PassengerId      0\n",
      "Survived         0\n",
      "Pclass           0\n",
      "Name             0\n",
      "Sex              0\n",
      "Age            177\n",
      "SibSp            0\n",
      "Parch            0\n",
      "Ticket           0\n",
      "Fare             0\n",
      "Cabin          687\n",
      "Embarked         2\n",
      "dtype: int64\n"
     ]
    }
   ],
   "source": [
    "print(train_data.isnull().sum())"
   ]
  },
  {
   "cell_type": "code",
   "execution_count": 37,
   "id": "83e7fb7b",
   "metadata": {},
   "outputs": [
    {
     "name": "stdout",
     "output_type": "stream",
     "text": [
      "Survived    0\n",
      "Pclass      0\n",
      "Sex         0\n",
      "Age         0\n",
      "SibSp       0\n",
      "Parch       0\n",
      "Fare        0\n",
      "Embarked    0\n",
      "dtype: int64\n"
     ]
    }
   ],
   "source": [
    "train_data = train_data.dropna(subset=['Age'])\n",
    "train_data = train_data.drop(columns=['PassengerId', 'Name', 'Ticket', 'Cabin'])\n",
    "train_data['Embarked'] = train_data['Embarked'].fillna(train_data['Embarked'].mode()[0])\n",
    "print(train_data.isnull().sum())"
   ]
  },
  {
   "cell_type": "code",
   "execution_count": 38,
   "id": "4f01ea80",
   "metadata": {},
   "outputs": [],
   "source": [
    "from sklearn.tree import DecisionTreeClassifier\n",
    "from sklearn.model_selection import train_test_split, GridSearchCV\n",
    "from sklearn.metrics import accuracy_score, classification_report, confusion_matrix\n",
    "from sklearn import tree\n",
    "import matplotlib.pyplot as plt"
   ]
  },
  {
   "cell_type": "code",
   "execution_count": null,
   "id": "3dab2d31",
   "metadata": {},
   "outputs": [],
   "source": [
    "train_data = pd.get_dummies(train_data, columns=['Sex', 'Embarked'], drop_first=True)\n",
    "train_data['Age'] = train_data['Age'].astype(int)"
   ]
  },
  {
   "cell_type": "code",
   "execution_count": 40,
   "id": "e687491c",
   "metadata": {},
   "outputs": [
    {
     "data": {
      "application/vnd.microsoft.datawrangler.viewer.v0+json": {
       "columns": [
        {
         "name": "index",
         "rawType": "object",
         "type": "string"
        },
        {
         "name": "Survived",
         "rawType": "float64",
         "type": "float"
        },
        {
         "name": "Pclass",
         "rawType": "float64",
         "type": "float"
        },
        {
         "name": "Age",
         "rawType": "float64",
         "type": "float"
        },
        {
         "name": "SibSp",
         "rawType": "float64",
         "type": "float"
        },
        {
         "name": "Parch",
         "rawType": "float64",
         "type": "float"
        },
        {
         "name": "Fare",
         "rawType": "float64",
         "type": "float"
        },
        {
         "name": "Sex_male",
         "rawType": "float64",
         "type": "float"
        },
        {
         "name": "Embarked_Q",
         "rawType": "float64",
         "type": "float"
        },
        {
         "name": "Embarked_S",
         "rawType": "float64",
         "type": "float"
        }
       ],
       "ref": "6b0c76ee-14c0-416e-9ad2-fee5326f83b3",
       "rows": [
        [
         "Survived",
         "1.0",
         "-0.3596526820868464",
         "-0.07715129928108586",
         "-0.01735836047953419",
         "0.09331700774224312",
         "0.2681886168744788",
         "-0.5388255930146356",
         "-0.04954883888754778",
         "-0.15681458279599017"
        ],
        [
         "Pclass",
         "-0.3596526820868464",
         "1.0",
         "-0.3694495969956018",
         "0.06724737460410465",
         "0.025683069815040666",
         "-0.5541824708598451",
         "0.15546030092742957",
         "0.1324145360073433",
         "0.1949351534556317"
        ],
        [
         "Age",
         "-0.07715129928108586",
         "-0.3694495969956018",
         "1.0",
         "-0.30794747602528966",
         "-0.1893067962514312",
         "0.09628819714551162",
         "0.09275311330282321",
         "-0.022858453418448905",
         "-0.02245399177282857"
        ],
        [
         "SibSp",
         "-0.01735836047953419",
         "0.06724737460410465",
         "-0.30794747602528966",
         "1.0",
         "0.3838198640428336",
         "0.13832879455544936",
         "-0.10394967775253422",
         "0.05161916512227985",
         "0.018125753595052273"
        ],
        [
         "Parch",
         "0.09331700774224312",
         "0.025683069815040666",
         "-0.1893067962514312",
         "0.3838198640428336",
         "1.0",
         "0.20511888430377995",
         "-0.24697203747596277",
         "-0.009125558375684975",
         "0.012491016107557982"
        ],
        [
         "Fare",
         "0.2681886168744788",
         "-0.5541824708598451",
         "0.09628819714551162",
         "0.13832879455544936",
         "0.20511888430377995",
         "1.0",
         "-0.18499425409272",
         "-0.06276455857863275",
         "-0.24935261748533905"
        ],
        [
         "Sex_male",
         "-0.5388255930146356",
         "0.15546030092742957",
         "0.09275311330282321",
         "-0.10394967775253422",
         "-0.24697203747596277",
         "-0.18499425409272",
         "1.0",
         "-0.026439918792064594",
         "0.10679557027538136"
        ],
        [
         "Embarked_Q",
         "-0.04954883888754778",
         "0.1324145360073433",
         "-0.022858453418448905",
         "0.05161916512227985",
         "-0.009125558375684975",
         "-0.06276455857863275",
         "-0.026439918792064594",
         "1.0",
         "-0.3789883064144102"
        ],
        [
         "Embarked_S",
         "-0.15681458279599017",
         "0.1949351534556317",
         "-0.02245399177282857",
         "0.018125753595052273",
         "0.012491016107557982",
         "-0.24935261748533905",
         "0.10679557027538136",
         "-0.3789883064144102",
         "1.0"
        ]
       ],
       "shape": {
        "columns": 9,
        "rows": 9
       }
      },
      "text/html": [
       "<div>\n",
       "<style scoped>\n",
       "    .dataframe tbody tr th:only-of-type {\n",
       "        vertical-align: middle;\n",
       "    }\n",
       "\n",
       "    .dataframe tbody tr th {\n",
       "        vertical-align: top;\n",
       "    }\n",
       "\n",
       "    .dataframe thead th {\n",
       "        text-align: right;\n",
       "    }\n",
       "</style>\n",
       "<table border=\"1\" class=\"dataframe\">\n",
       "  <thead>\n",
       "    <tr style=\"text-align: right;\">\n",
       "      <th></th>\n",
       "      <th>Survived</th>\n",
       "      <th>Pclass</th>\n",
       "      <th>Age</th>\n",
       "      <th>SibSp</th>\n",
       "      <th>Parch</th>\n",
       "      <th>Fare</th>\n",
       "      <th>Sex_male</th>\n",
       "      <th>Embarked_Q</th>\n",
       "      <th>Embarked_S</th>\n",
       "    </tr>\n",
       "  </thead>\n",
       "  <tbody>\n",
       "    <tr>\n",
       "      <th>Survived</th>\n",
       "      <td>1.000000</td>\n",
       "      <td>-0.359653</td>\n",
       "      <td>-0.077151</td>\n",
       "      <td>-0.017358</td>\n",
       "      <td>0.093317</td>\n",
       "      <td>0.268189</td>\n",
       "      <td>-0.538826</td>\n",
       "      <td>-0.049549</td>\n",
       "      <td>-0.156815</td>\n",
       "    </tr>\n",
       "    <tr>\n",
       "      <th>Pclass</th>\n",
       "      <td>-0.359653</td>\n",
       "      <td>1.000000</td>\n",
       "      <td>-0.369450</td>\n",
       "      <td>0.067247</td>\n",
       "      <td>0.025683</td>\n",
       "      <td>-0.554182</td>\n",
       "      <td>0.155460</td>\n",
       "      <td>0.132415</td>\n",
       "      <td>0.194935</td>\n",
       "    </tr>\n",
       "    <tr>\n",
       "      <th>Age</th>\n",
       "      <td>-0.077151</td>\n",
       "      <td>-0.369450</td>\n",
       "      <td>1.000000</td>\n",
       "      <td>-0.307947</td>\n",
       "      <td>-0.189307</td>\n",
       "      <td>0.096288</td>\n",
       "      <td>0.092753</td>\n",
       "      <td>-0.022858</td>\n",
       "      <td>-0.022454</td>\n",
       "    </tr>\n",
       "    <tr>\n",
       "      <th>SibSp</th>\n",
       "      <td>-0.017358</td>\n",
       "      <td>0.067247</td>\n",
       "      <td>-0.307947</td>\n",
       "      <td>1.000000</td>\n",
       "      <td>0.383820</td>\n",
       "      <td>0.138329</td>\n",
       "      <td>-0.103950</td>\n",
       "      <td>0.051619</td>\n",
       "      <td>0.018126</td>\n",
       "    </tr>\n",
       "    <tr>\n",
       "      <th>Parch</th>\n",
       "      <td>0.093317</td>\n",
       "      <td>0.025683</td>\n",
       "      <td>-0.189307</td>\n",
       "      <td>0.383820</td>\n",
       "      <td>1.000000</td>\n",
       "      <td>0.205119</td>\n",
       "      <td>-0.246972</td>\n",
       "      <td>-0.009126</td>\n",
       "      <td>0.012491</td>\n",
       "    </tr>\n",
       "    <tr>\n",
       "      <th>Fare</th>\n",
       "      <td>0.268189</td>\n",
       "      <td>-0.554182</td>\n",
       "      <td>0.096288</td>\n",
       "      <td>0.138329</td>\n",
       "      <td>0.205119</td>\n",
       "      <td>1.000000</td>\n",
       "      <td>-0.184994</td>\n",
       "      <td>-0.062765</td>\n",
       "      <td>-0.249353</td>\n",
       "    </tr>\n",
       "    <tr>\n",
       "      <th>Sex_male</th>\n",
       "      <td>-0.538826</td>\n",
       "      <td>0.155460</td>\n",
       "      <td>0.092753</td>\n",
       "      <td>-0.103950</td>\n",
       "      <td>-0.246972</td>\n",
       "      <td>-0.184994</td>\n",
       "      <td>1.000000</td>\n",
       "      <td>-0.026440</td>\n",
       "      <td>0.106796</td>\n",
       "    </tr>\n",
       "    <tr>\n",
       "      <th>Embarked_Q</th>\n",
       "      <td>-0.049549</td>\n",
       "      <td>0.132415</td>\n",
       "      <td>-0.022858</td>\n",
       "      <td>0.051619</td>\n",
       "      <td>-0.009126</td>\n",
       "      <td>-0.062765</td>\n",
       "      <td>-0.026440</td>\n",
       "      <td>1.000000</td>\n",
       "      <td>-0.378988</td>\n",
       "    </tr>\n",
       "    <tr>\n",
       "      <th>Embarked_S</th>\n",
       "      <td>-0.156815</td>\n",
       "      <td>0.194935</td>\n",
       "      <td>-0.022454</td>\n",
       "      <td>0.018126</td>\n",
       "      <td>0.012491</td>\n",
       "      <td>-0.249353</td>\n",
       "      <td>0.106796</td>\n",
       "      <td>-0.378988</td>\n",
       "      <td>1.000000</td>\n",
       "    </tr>\n",
       "  </tbody>\n",
       "</table>\n",
       "</div>"
      ],
      "text/plain": [
       "            Survived    Pclass       Age     SibSp     Parch      Fare  \\\n",
       "Survived    1.000000 -0.359653 -0.077151 -0.017358  0.093317  0.268189   \n",
       "Pclass     -0.359653  1.000000 -0.369450  0.067247  0.025683 -0.554182   \n",
       "Age        -0.077151 -0.369450  1.000000 -0.307947 -0.189307  0.096288   \n",
       "SibSp      -0.017358  0.067247 -0.307947  1.000000  0.383820  0.138329   \n",
       "Parch       0.093317  0.025683 -0.189307  0.383820  1.000000  0.205119   \n",
       "Fare        0.268189 -0.554182  0.096288  0.138329  0.205119  1.000000   \n",
       "Sex_male   -0.538826  0.155460  0.092753 -0.103950 -0.246972 -0.184994   \n",
       "Embarked_Q -0.049549  0.132415 -0.022858  0.051619 -0.009126 -0.062765   \n",
       "Embarked_S -0.156815  0.194935 -0.022454  0.018126  0.012491 -0.249353   \n",
       "\n",
       "            Sex_male  Embarked_Q  Embarked_S  \n",
       "Survived   -0.538826   -0.049549   -0.156815  \n",
       "Pclass      0.155460    0.132415    0.194935  \n",
       "Age         0.092753   -0.022858   -0.022454  \n",
       "SibSp      -0.103950    0.051619    0.018126  \n",
       "Parch      -0.246972   -0.009126    0.012491  \n",
       "Fare       -0.184994   -0.062765   -0.249353  \n",
       "Sex_male    1.000000   -0.026440    0.106796  \n",
       "Embarked_Q -0.026440    1.000000   -0.378988  \n",
       "Embarked_S  0.106796   -0.378988    1.000000  "
      ]
     },
     "execution_count": 40,
     "metadata": {},
     "output_type": "execute_result"
    }
   ],
   "source": [
    "train_data.corr()"
   ]
  },
  {
   "cell_type": "code",
   "execution_count": 41,
   "id": "d1604003",
   "metadata": {},
   "outputs": [
    {
     "name": "stderr",
     "output_type": "stream",
     "text": [
      "C:\\Users\\ual-laptop\\AppData\\Local\\Temp\\ipykernel_12864\\640309297.py:9: UserWarning: This figure includes Axes that are not compatible with tight_layout, so results might be incorrect.\n",
      "  plt.tight_layout()\n"
     ]
    },
    {
     "data": {
      "image/png": "[encoded data removed]",
      "text/plain": [
       "<Figure size 480x480 with 2 Axes>"
      ]
     },
     "metadata": {},
     "output_type": "display_data"
    }
   ],
   "source": [
    "# make correlation matrix\n",
    "corr_matrix = train_data.corr()\n",
    "# plot the correlation matrix\n",
    "plt.matshow(corr_matrix, cmap='coolwarm')\n",
    "plt.colorbar()\n",
    "plt.xticks(range(len(corr_matrix.columns)), corr_matrix.columns, rotation=45)\n",
    "plt.yticks(range(len(corr_matrix.columns)), corr_matrix.columns)\n",
    "plt.title('Correlation Matrix of Titanic Dataset', pad=20)\n",
    "plt.tight_layout()\n"
   ]
  },
  {
   "cell_type": "code",
   "execution_count": null,
   "id": "e2b98b1c",
   "metadata": {},
   "outputs": [],
   "source": [
    "X = train_data.drop(columns=['Survived'], axis=1) \n",
    "# X = train_data[['Age', 'Sex_male']]\n",
    "y = train_data['Survived']               "
   ]
  },
  {
   "cell_type": "code",
   "execution_count": 43,
   "id": "02db41bc",
   "metadata": {},
   "outputs": [
    {
     "data": {
      "application/vnd.microsoft.datawrangler.viewer.v0+json": {
       "columns": [
        {
         "name": "index",
         "rawType": "int64",
         "type": "integer"
        },
        {
         "name": "Pclass",
         "rawType": "int64",
         "type": "integer"
        },
        {
         "name": "Age",
         "rawType": "int64",
         "type": "integer"
        },
        {
         "name": "SibSp",
         "rawType": "int64",
         "type": "integer"
        },
        {
         "name": "Parch",
         "rawType": "int64",
         "type": "integer"
        },
        {
         "name": "Fare",
         "rawType": "float64",
         "type": "float"
        },
        {
         "name": "Sex_male",
         "rawType": "bool",
         "type": "boolean"
        },
        {
         "name": "Embarked_Q",
         "rawType": "bool",
         "type": "boolean"
        },
        {
         "name": "Embarked_S",
         "rawType": "bool",
         "type": "boolean"
        }
       ],
       "ref": "95c9a451-ea2b-4234-ad11-3d55109cdfe9",
       "rows": [
        [
         "0",
         "3",
         "22",
         "1",
         "0",
         "7.25",
         "True",
         "False",
         "True"
        ],
        [
         "1",
         "1",
         "38",
         "1",
         "0",
         "71.2833",
         "False",
         "False",
         "False"
        ],
        [
         "2",
         "3",
         "26",
         "0",
         "0",
         "7.925",
         "False",
         "False",
         "True"
        ],
        [
         "3",
         "1",
         "35",
         "1",
         "0",
         "53.1",
         "False",
         "False",
         "True"
        ],
        [
         "4",
         "3",
         "35",
         "0",
         "0",
         "8.05",
         "True",
         "False",
         "True"
        ],
        [
         "6",
         "1",
         "54",
         "0",
         "0",
         "51.8625",
         "True",
         "False",
         "True"
        ],
        [
         "7",
         "3",
         "2",
         "3",
         "1",
         "21.075",
         "True",
         "False",
         "True"
        ],
        [
         "8",
         "3",
         "27",
         "0",
         "2",
         "11.1333",
         "False",
         "False",
         "True"
        ],
        [
         "9",
         "2",
         "14",
         "1",
         "0",
         "30.0708",
         "False",
         "False",
         "False"
        ],
        [
         "10",
         "3",
         "4",
         "1",
         "1",
         "16.7",
         "False",
         "False",
         "True"
        ],
        [
         "11",
         "1",
         "58",
         "0",
         "0",
         "26.55",
         "False",
         "False",
         "True"
        ],
        [
         "12",
         "3",
         "20",
         "0",
         "0",
         "8.05",
         "True",
         "False",
         "True"
        ],
        [
         "13",
         "3",
         "39",
         "1",
         "5",
         "31.275",
         "True",
         "False",
         "True"
        ],
        [
         "14",
         "3",
         "14",
         "0",
         "0",
         "7.8542",
         "False",
         "False",
         "True"
        ],
        [
         "15",
         "2",
         "55",
         "0",
         "0",
         "16.0",
         "False",
         "False",
         "True"
        ],
        [
         "16",
         "3",
         "2",
         "4",
         "1",
         "29.125",
         "True",
         "True",
         "False"
        ],
        [
         "18",
         "3",
         "31",
         "1",
         "0",
         "18.0",
         "False",
         "False",
         "True"
        ],
        [
         "20",
         "2",
         "35",
         "0",
         "0",
         "26.0",
         "True",
         "False",
         "True"
        ],
        [
         "21",
         "2",
         "34",
         "0",
         "0",
         "13.0",
         "True",
         "False",
         "True"
        ],
        [
         "22",
         "3",
         "15",
         "0",
         "0",
         "8.0292",
         "False",
         "True",
         "False"
        ],
        [
         "23",
         "1",
         "28",
         "0",
         "0",
         "35.5",
         "True",
         "False",
         "True"
        ],
        [
         "24",
         "3",
         "8",
         "3",
         "1",
         "21.075",
         "False",
         "False",
         "True"
        ],
        [
         "25",
         "3",
         "38",
         "1",
         "5",
         "31.3875",
         "False",
         "False",
         "True"
        ],
        [
         "27",
         "1",
         "19",
         "3",
         "2",
         "263.0",
         "True",
         "False",
         "True"
        ],
        [
         "30",
         "1",
         "40",
         "0",
         "0",
         "27.7208",
         "True",
         "False",
         "False"
        ],
        [
         "33",
         "2",
         "66",
         "0",
         "0",
         "10.5",
         "True",
         "False",
         "True"
        ],
        [
         "34",
         "1",
         "28",
         "1",
         "0",
         "82.1708",
         "True",
         "False",
         "False"
        ],
        [
         "35",
         "1",
         "42",
         "1",
         "0",
         "52.0",
         "True",
         "False",
         "True"
        ],
        [
         "37",
         "3",
         "21",
         "0",
         "0",
         "8.05",
         "True",
         "False",
         "True"
        ],
        [
         "38",
         "3",
         "18",
         "2",
         "0",
         "18.0",
         "False",
         "False",
         "True"
        ],
        [
         "39",
         "3",
         "14",
         "1",
         "0",
         "11.2417",
         "False",
         "False",
         "False"
        ],
        [
         "40",
         "3",
         "40",
         "1",
         "0",
         "9.475",
         "False",
         "False",
         "True"
        ],
        [
         "41",
         "2",
         "27",
         "1",
         "0",
         "21.0",
         "False",
         "False",
         "True"
        ],
        [
         "43",
         "2",
         "3",
         "1",
         "2",
         "41.5792",
         "False",
         "False",
         "False"
        ],
        [
         "44",
         "3",
         "19",
         "0",
         "0",
         "7.8792",
         "False",
         "True",
         "False"
        ],
        [
         "49",
         "3",
         "18",
         "1",
         "0",
         "17.8",
         "False",
         "False",
         "True"
        ],
        [
         "50",
         "3",
         "7",
         "4",
         "1",
         "39.6875",
         "True",
         "False",
         "True"
        ],
        [
         "51",
         "3",
         "21",
         "0",
         "0",
         "7.8",
         "True",
         "False",
         "True"
        ],
        [
         "52",
         "1",
         "49",
         "1",
         "0",
         "76.7292",
         "False",
         "False",
         "False"
        ],
        [
         "53",
         "2",
         "29",
         "1",
         "0",
         "26.0",
         "False",
         "False",
         "True"
        ],
        [
         "54",
         "1",
         "65",
         "0",
         "1",
         "61.9792",
         "True",
         "False",
         "False"
        ],
        [
         "56",
         "2",
         "21",
         "0",
         "0",
         "10.5",
         "False",
         "False",
         "True"
        ],
        [
         "57",
         "3",
         "28",
         "0",
         "0",
         "7.2292",
         "True",
         "False",
         "False"
        ],
        [
         "58",
         "2",
         "5",
         "1",
         "2",
         "27.75",
         "False",
         "False",
         "True"
        ],
        [
         "59",
         "3",
         "11",
         "5",
         "2",
         "46.9",
         "True",
         "False",
         "True"
        ],
        [
         "60",
         "3",
         "22",
         "0",
         "0",
         "7.2292",
         "True",
         "False",
         "False"
        ],
        [
         "61",
         "1",
         "38",
         "0",
         "0",
         "80.0",
         "False",
         "False",
         "True"
        ],
        [
         "62",
         "1",
         "45",
         "1",
         "0",
         "83.475",
         "True",
         "False",
         "True"
        ],
        [
         "63",
         "3",
         "4",
         "3",
         "2",
         "27.9",
         "True",
         "False",
         "True"
        ],
        [
         "66",
         "2",
         "29",
         "0",
         "0",
         "10.5",
         "False",
         "False",
         "True"
        ]
       ],
       "shape": {
        "columns": 8,
        "rows": 714
       }
      },
      "text/html": [
       "<div>\n",
       "<style scoped>\n",
       "    .dataframe tbody tr th:only-of-type {\n",
       "        vertical-align: middle;\n",
       "    }\n",
       "\n",
       "    .dataframe tbody tr th {\n",
       "        vertical-align: top;\n",
       "    }\n",
       "\n",
       "    .dataframe thead th {\n",
       "        text-align: right;\n",
       "    }\n",
       "</style>\n",
       "<table border=\"1\" class=\"dataframe\">\n",
       "  <thead>\n",
       "    <tr style=\"text-align: right;\">\n",
       "      <th></th>\n",
       "      <th>Pclass</th>\n",
       "      <th>Age</th>\n",
       "      <th>SibSp</th>\n",
       "      <th>Parch</th>\n",
       "      <th>Fare</th>\n",
       "      <th>Sex_male</th>\n",
       "      <th>Embarked_Q</th>\n",
       "      <th>Embarked_S</th>\n",
       "    </tr>\n",
       "  </thead>\n",
       "  <tbody>\n",
       "    <tr>\n",
       "      <th>0</th>\n",
       "      <td>3</td>\n",
       "      <td>22</td>\n",
       "      <td>1</td>\n",
       "      <td>0</td>\n",
       "      <td>7.2500</td>\n",
       "      <td>True</td>\n",
       "      <td>False</td>\n",
       "      <td>True</td>\n",
       "    </tr>\n",
       "    <tr>\n",
       "      <th>1</th>\n",
       "      <td>1</td>\n",
       "      <td>38</td>\n",
       "      <td>1</td>\n",
       "      <td>0</td>\n",
       "      <td>71.2833</td>\n",
       "      <td>False</td>\n",
       "      <td>False</td>\n",
       "      <td>False</td>\n",
       "    </tr>\n",
       "    <tr>\n",
       "      <th>2</th>\n",
       "      <td>3</td>\n",
       "      <td>26</td>\n",
       "      <td>0</td>\n",
       "      <td>0</td>\n",
       "      <td>7.9250</td>\n",
       "      <td>False</td>\n",
       "      <td>False</td>\n",
       "      <td>True</td>\n",
       "    </tr>\n",
       "    <tr>\n",
       "      <th>3</th>\n",
       "      <td>1</td>\n",
       "      <td>35</td>\n",
       "      <td>1</td>\n",
       "      <td>0</td>\n",
       "      <td>53.1000</td>\n",
       "      <td>False</td>\n",
       "      <td>False</td>\n",
       "      <td>True</td>\n",
       "    </tr>\n",
       "    <tr>\n",
       "      <th>4</th>\n",
       "      <td>3</td>\n",
       "      <td>35</td>\n",
       "      <td>0</td>\n",
       "      <td>0</td>\n",
       "      <td>8.0500</td>\n",
       "      <td>True</td>\n",
       "      <td>False</td>\n",
       "      <td>True</td>\n",
       "    </tr>\n",
       "    <tr>\n",
       "      <th>...</th>\n",
       "      <td>...</td>\n",
       "      <td>...</td>\n",
       "      <td>...</td>\n",
       "      <td>...</td>\n",
       "      <td>...</td>\n",
       "      <td>...</td>\n",
       "      <td>...</td>\n",
       "      <td>...</td>\n",
       "    </tr>\n",
       "    <tr>\n",
       "      <th>885</th>\n",
       "      <td>3</td>\n",
       "      <td>39</td>\n",
       "      <td>0</td>\n",
       "      <td>5</td>\n",
       "      <td>29.1250</td>\n",
       "      <td>False</td>\n",
       "      <td>True</td>\n",
       "      <td>False</td>\n",
       "    </tr>\n",
       "    <tr>\n",
       "      <th>886</th>\n",
       "      <td>2</td>\n",
       "      <td>27</td>\n",
       "      <td>0</td>\n",
       "      <td>0</td>\n",
       "      <td>13.0000</td>\n",
       "      <td>True</td>\n",
       "      <td>False</td>\n",
       "      <td>True</td>\n",
       "    </tr>\n",
       "    <tr>\n",
       "      <th>887</th>\n",
       "      <td>1</td>\n",
       "      <td>19</td>\n",
       "      <td>0</td>\n",
       "      <td>0</td>\n",
       "      <td>30.0000</td>\n",
       "      <td>False</td>\n",
       "      <td>False</td>\n",
       "      <td>True</td>\n",
       "    </tr>\n",
       "    <tr>\n",
       "      <th>889</th>\n",
       "      <td>1</td>\n",
       "      <td>26</td>\n",
       "      <td>0</td>\n",
       "      <td>0</td>\n",
       "      <td>30.0000</td>\n",
       "      <td>True</td>\n",
       "      <td>False</td>\n",
       "      <td>False</td>\n",
       "    </tr>\n",
       "    <tr>\n",
       "      <th>890</th>\n",
       "      <td>3</td>\n",
       "      <td>32</td>\n",
       "      <td>0</td>\n",
       "      <td>0</td>\n",
       "      <td>7.7500</td>\n",
       "      <td>True</td>\n",
       "      <td>True</td>\n",
       "      <td>False</td>\n",
       "    </tr>\n",
       "  </tbody>\n",
       "</table>\n",
       "<p>714 rows × 8 columns</p>\n",
       "</div>"
      ],
      "text/plain": [
       "     Pclass  Age  SibSp  Parch     Fare  Sex_male  Embarked_Q  Embarked_S\n",
       "0         3   22      1      0   7.2500      True       False        True\n",
       "1         1   38      1      0  71.2833     False       False       False\n",
       "2         3   26      0      0   7.9250     False       False        True\n",
       "3         1   35      1      0  53.1000     False       False        True\n",
       "4         3   35      0      0   8.0500      True       False        True\n",
       "..      ...  ...    ...    ...      ...       ...         ...         ...\n",
       "885       3   39      0      5  29.1250     False        True       False\n",
       "886       2   27      0      0  13.0000      True       False        True\n",
       "887       1   19      0      0  30.0000     False       False        True\n",
       "889       1   26      0      0  30.0000      True       False       False\n",
       "890       3   32      0      0   7.7500      True        True       False\n",
       "\n",
       "[714 rows x 8 columns]"
      ]
     },
     "execution_count": 43,
     "metadata": {},
     "output_type": "execute_result"
    }
   ],
   "source": [
    "X"
   ]
  },
  {
   "cell_type": "code",
   "execution_count": 44,
   "id": "1456847b",
   "metadata": {},
   "outputs": [
    {
     "name": "stdout",
     "output_type": "stream",
     "text": [
      "Best parameters found:  {'criterion': 'gini', 'max_depth': 5, 'min_samples_split': 3}\n",
      "Best model accuracy:  0.7202797202797203\n"
     ]
    },
    {
     "data": {
      "image/png": "[encoded data removed]",
      "text/plain": [
       "<Figure size 2000x1000 with 1 Axes>"
      ]
     },
     "metadata": {},
     "output_type": "display_data"
    },
    {
     "name": "stdout",
     "output_type": "stream",
     "text": [
      "              precision    recall  f1-score   support\n",
      "\n",
      "           0       0.78      0.75      0.76        87\n",
      "           1       0.63      0.68      0.66        56\n",
      "\n",
      "    accuracy                           0.72       143\n",
      "   macro avg       0.71      0.71      0.71       143\n",
      "weighted avg       0.72      0.72      0.72       143\n",
      "\n"
     ]
    },
    {
     "data": {
      "image/png": "[encoded data removed]",
      "text/plain": [
       "<Figure size 800x600 with 2 Axes>"
      ]
     },
     "metadata": {},
     "output_type": "display_data"
    }
   ],
   "source": [
    "X_train, X_test, y_train, y_test = train_test_split(X, y, test_size=0.2, random_state=42)\n",
    "\n",
    "\n",
    "import seaborn as sns\n",
    "\n",
    "param_grid = {\n",
    "    'criterion': ['gini', 'entropy'],\n",
    "    'max_depth': range(1, 40),\n",
    "    'min_samples_split': range(2, 10)\n",
    "}\n",
    "grid_search = GridSearchCV(DecisionTreeClassifier(random_state=42), param_grid, cv=5, n_jobs=-1)\n",
    "grid_search.fit(X_train, y_train)\n",
    "print(\"Best parameters found: \", grid_search.best_params_)\n",
    "best_model = grid_search.best_estimator_\n",
    "y_pred = best_model.predict(X_test)\n",
    "print(\"Best model accuracy: \", accuracy_score(y_test, y_pred))\n",
    "\n",
    "# visualize the best decision tree\n",
    "plt.figure(figsize=(20, 10))\n",
    "tree.plot_tree(best_model, filled=True, feature_names=X.columns, class_names=['Not Survived', 'Survived'])\n",
    "plt.title('Decision Tree Visualization')\n",
    "plt.show()\n",
    "\n",
    "# print classification report\n",
    "print(classification_report(y_test, y_pred))\n",
    "\n",
    "# print confusion matrix\n",
    "conf_matrix = confusion_matrix(y_test, y_pred)\n",
    "plt.figure(figsize=(8, 6))\n",
    "sns.heatmap(conf_matrix, annot=True, fmt='d', cmap='Blues', xticklabels=['Not Survived', 'Survived'], yticklabels=['Not Survived', 'Survived'])\n",
    "plt.title('Confusion Matrix')\n",
    "plt.xlabel('Predicted')\n",
    "plt.ylabel('Actual')\n",
    "plt.show()\n"
   ]
  },
  {
   "cell_type": "code",
   "execution_count": 45,
   "id": "dd87233a",
   "metadata": {},
   "outputs": [
    {
     "name": "stdout",
     "output_type": "stream",
     "text": [
      "Pclass      0\n",
      "Sex         0\n",
      "Age         0\n",
      "SibSp       0\n",
      "Parch       0\n",
      "Fare        0\n",
      "Embarked    0\n",
      "dtype: int64\n"
     ]
    }
   ],
   "source": [
    "submission_data = pd.read_csv('./titanic/test.csv')\n",
    "\n",
    "submission_data = submission_data.drop(columns=['PassengerId', 'Name', 'Ticket', 'Cabin'])\n",
    "submission_data['Age'] = submission_data['Age'].fillna(submission_data['Age'].mean())\n",
    "submission_data['Fare'] = submission_data['Fare'].fillna(submission_data['Fare'].mean())\n",
    "print(submission_data.isnull().sum()) \n",
    "\n",
    "submission_data.shape\n",
    "\n",
    "submission_data = pd.get_dummies(submission_data, columns=[\"Sex\", \"Embarked\"], drop_first=True)\n",
    "submission_data['Age'] = submission_data['Age'].astype(int)\n",
    "X_submission = submission_data\n",
    "\n",
    "y_submission = best_model.predict(X_submission)\n",
    "submission_df = pd.DataFrame({\n",
    "    'PassengerId': submission_data.index + 892,  # Bcoz passenderId starts from 892 in data set\n",
    "    'Survived': y_submission\n",
    "})\n"
   ]
  },
  {
   "cell_type": "code",
   "execution_count": 46,
   "id": "b26c5d21",
   "metadata": {},
   "outputs": [
    {
     "data": {
      "application/vnd.microsoft.datawrangler.viewer.v0+json": {
       "columns": [
        {
         "name": "index",
         "rawType": "int64",
         "type": "integer"
        },
        {
         "name": "PassengerId",
         "rawType": "int64",
         "type": "integer"
        },
        {
         "name": "Survived",
         "rawType": "int64",
         "type": "integer"
        }
       ],
       "ref": "690a199c-3c54-4d0a-913c-c110b58ef416",
       "rows": [
        [
         "0",
         "892",
         "0"
        ],
        [
         "1",
         "893",
         "0"
        ],
        [
         "2",
         "894",
         "0"
        ],
        [
         "3",
         "895",
         "0"
        ],
        [
         "4",
         "896",
         "1"
        ],
        [
         "5",
         "897",
         "0"
        ],
        [
         "6",
         "898",
         "0"
        ],
        [
         "7",
         "899",
         "0"
        ],
        [
         "8",
         "900",
         "1"
        ],
        [
         "9",
         "901",
         "0"
        ],
        [
         "10",
         "902",
         "0"
        ],
        [
         "11",
         "903",
         "0"
        ],
        [
         "12",
         "904",
         "1"
        ],
        [
         "13",
         "905",
         "0"
        ],
        [
         "14",
         "906",
         "1"
        ],
        [
         "15",
         "907",
         "1"
        ],
        [
         "16",
         "908",
         "0"
        ],
        [
         "17",
         "909",
         "0"
        ],
        [
         "18",
         "910",
         "1"
        ],
        [
         "19",
         "911",
         "0"
        ],
        [
         "20",
         "912",
         "0"
        ],
        [
         "21",
         "913",
         "0"
        ],
        [
         "22",
         "914",
         "1"
        ],
        [
         "23",
         "915",
         "1"
        ],
        [
         "24",
         "916",
         "1"
        ],
        [
         "25",
         "917",
         "0"
        ],
        [
         "26",
         "918",
         "1"
        ],
        [
         "27",
         "919",
         "0"
        ],
        [
         "28",
         "920",
         "1"
        ],
        [
         "29",
         "921",
         "0"
        ],
        [
         "30",
         "922",
         "0"
        ],
        [
         "31",
         "923",
         "0"
        ],
        [
         "32",
         "924",
         "0"
        ],
        [
         "33",
         "925",
         "0"
        ],
        [
         "34",
         "926",
         "1"
        ],
        [
         "35",
         "927",
         "0"
        ],
        [
         "36",
         "928",
         "0"
        ],
        [
         "37",
         "929",
         "1"
        ],
        [
         "38",
         "930",
         "0"
        ],
        [
         "39",
         "931",
         "1"
        ],
        [
         "40",
         "932",
         "0"
        ],
        [
         "41",
         "933",
         "1"
        ],
        [
         "42",
         "934",
         "0"
        ],
        [
         "43",
         "935",
         "1"
        ],
        [
         "44",
         "936",
         "1"
        ],
        [
         "45",
         "937",
         "0"
        ],
        [
         "46",
         "938",
         "0"
        ],
        [
         "47",
         "939",
         "0"
        ],
        [
         "48",
         "940",
         "1"
        ],
        [
         "49",
         "941",
         "0"
        ]
       ],
       "shape": {
        "columns": 2,
        "rows": 418
       }
      },
      "text/html": [
       "<div>\n",
       "<style scoped>\n",
       "    .dataframe tbody tr th:only-of-type {\n",
       "        vertical-align: middle;\n",
       "    }\n",
       "\n",
       "    .dataframe tbody tr th {\n",
       "        vertical-align: top;\n",
       "    }\n",
       "\n",
       "    .dataframe thead th {\n",
       "        text-align: right;\n",
       "    }\n",
       "</style>\n",
       "<table border=\"1\" class=\"dataframe\">\n",
       "  <thead>\n",
       "    <tr style=\"text-align: right;\">\n",
       "      <th></th>\n",
       "      <th>PassengerId</th>\n",
       "      <th>Survived</th>\n",
       "    </tr>\n",
       "  </thead>\n",
       "  <tbody>\n",
       "    <tr>\n",
       "      <th>0</th>\n",
       "      <td>892</td>\n",
       "      <td>0</td>\n",
       "    </tr>\n",
       "    <tr>\n",
       "      <th>1</th>\n",
       "      <td>893</td>\n",
       "      <td>0</td>\n",
       "    </tr>\n",
       "    <tr>\n",
       "      <th>2</th>\n",
       "      <td>894</td>\n",
       "      <td>0</td>\n",
       "    </tr>\n",
       "    <tr>\n",
       "      <th>3</th>\n",
       "      <td>895</td>\n",
       "      <td>0</td>\n",
       "    </tr>\n",
       "    <tr>\n",
       "      <th>4</th>\n",
       "      <td>896</td>\n",
       "      <td>1</td>\n",
       "    </tr>\n",
       "    <tr>\n",
       "      <th>...</th>\n",
       "      <td>...</td>\n",
       "      <td>...</td>\n",
       "    </tr>\n",
       "    <tr>\n",
       "      <th>413</th>\n",
       "      <td>1305</td>\n",
       "      <td>0</td>\n",
       "    </tr>\n",
       "    <tr>\n",
       "      <th>414</th>\n",
       "      <td>1306</td>\n",
       "      <td>1</td>\n",
       "    </tr>\n",
       "    <tr>\n",
       "      <th>415</th>\n",
       "      <td>1307</td>\n",
       "      <td>0</td>\n",
       "    </tr>\n",
       "    <tr>\n",
       "      <th>416</th>\n",
       "      <td>1308</td>\n",
       "      <td>0</td>\n",
       "    </tr>\n",
       "    <tr>\n",
       "      <th>417</th>\n",
       "      <td>1309</td>\n",
       "      <td>0</td>\n",
       "    </tr>\n",
       "  </tbody>\n",
       "</table>\n",
       "<p>418 rows × 2 columns</p>\n",
       "</div>"
      ],
      "text/plain": [
       "     PassengerId  Survived\n",
       "0            892         0\n",
       "1            893         0\n",
       "2            894         0\n",
       "3            895         0\n",
       "4            896         1\n",
       "..           ...       ...\n",
       "413         1305         0\n",
       "414         1306         1\n",
       "415         1307         0\n",
       "416         1308         0\n",
       "417         1309         0\n",
       "\n",
       "[418 rows x 2 columns]"
      ]
     },
     "execution_count": 46,
     "metadata": {},
     "output_type": "execute_result"
    }
   ],
   "source": [
    "submission_df"
   ]
  },
  {
   "cell_type": "code",
   "execution_count": 47,
   "id": "643dfc9c",
   "metadata": {},
   "outputs": [],
   "source": [
    "submission_df.to_csv('submission.csv', index=False)"
   ]
  }
 ],
 "metadata": {
  "kernelspec": {
   "display_name": "Python 3",
   "language": "python",
   "name": "python3"
  },
  "language_info": {
   "codemirror_mode": {
    "name": "ipython",
    "version": 3
   },
   "file_extension": ".py",
   "mimetype": "text/x-python",
   "name": "python",
   "nbconvert_exporter": "python",
   "pygments_lexer": "ipython3",
   "version": "3.9.13"
  }
 },
 "nbformat": 4,
 "nbformat_minor": 5
}
